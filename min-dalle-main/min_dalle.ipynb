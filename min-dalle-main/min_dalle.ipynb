{
  "cells": [
    {
      "cell_type": "markdown",
      "metadata": {
        "colab_type": "text",
        "id": "view-in-github"
      },
      "source": [
        "<a href=\"https://colab.research.google.com/github/kuprel/min-dalle/blob/main/min_dalle.ipynb\" target=\"_parent\"><img src=\"https://colab.research.google.com/assets/colab-badge.svg\" alt=\"Open In Colab\"/></a>"
      ]
    },
    {
      "cell_type": "markdown",
      "metadata": {
        "id": "3WL-G_f2_ld8"
      },
      "source": [
        "# min(DALL·E)"
      ]
    },
    {
      "cell_type": "markdown",
      "metadata": {
        "id": "Zl_ZFisFApeh"
      },
      "source": [
        "### Install"
      ]
    },
    {
      "cell_type": "code",
      "execution_count": 1,
      "metadata": {
        "cellView": "code",
        "colab": {
          "base_uri": "https://localhost:8080/"
        },
        "id": "ix_xt4X1_6F4",
        "outputId": "0c74b840-86aa-43d2-f772-9e2555bff9d1"
      },
      "outputs": [
        {
          "name": "stderr",
          "output_type": "stream",
          "text": [
            "'nvidia-smi' is not recognized as an internal or external command,\n",
            "operable program or batch file.\n"
          ]
        },
        {
          "name": "stdout",
          "output_type": "stream",
          "text": [
            "Requirement already satisfied: min-dalle in d:\\min-dalle-main\\.venv\\lib\\site-packages (0.4.11)\n",
            "Requirement already satisfied: torch>=1.11 in d:\\min-dalle-main\\.venv\\lib\\site-packages (from min-dalle) (2.0.1)\n",
            "Requirement already satisfied: typing-extensions>=4.1 in d:\\min-dalle-main\\.venv\\lib\\site-packages (from min-dalle) (4.8.0)\n",
            "Requirement already satisfied: numpy>=1.21 in d:\\min-dalle-main\\.venv\\lib\\site-packages (from min-dalle) (1.26.0)\n",
            "Requirement already satisfied: pillow>=7.1 in d:\\min-dalle-main\\.venv\\lib\\site-packages (from min-dalle) (10.0.1)\n",
            "Requirement already satisfied: requests>=2.23 in d:\\min-dalle-main\\.venv\\lib\\site-packages (from min-dalle) (2.31.0)\n",
            "Requirement already satisfied: emoji in d:\\min-dalle-main\\.venv\\lib\\site-packages (from min-dalle) (2.8.0)\n",
            "Requirement already satisfied: charset-normalizer<4,>=2 in d:\\min-dalle-main\\.venv\\lib\\site-packages (from requests>=2.23->min-dalle) (3.2.0)\n",
            "Requirement already satisfied: idna<4,>=2.5 in d:\\min-dalle-main\\.venv\\lib\\site-packages (from requests>=2.23->min-dalle) (3.4)\n",
            "Requirement already satisfied: urllib3<3,>=1.21.1 in d:\\min-dalle-main\\.venv\\lib\\site-packages (from requests>=2.23->min-dalle) (2.0.4)\n",
            "Requirement already satisfied: certifi>=2017.4.17 in d:\\min-dalle-main\\.venv\\lib\\site-packages (from requests>=2.23->min-dalle) (2023.7.22)\n",
            "Requirement already satisfied: filelock in d:\\min-dalle-main\\.venv\\lib\\site-packages (from torch>=1.11->min-dalle) (3.12.4)\n",
            "Requirement already satisfied: sympy in d:\\min-dalle-main\\.venv\\lib\\site-packages (from torch>=1.11->min-dalle) (1.12)\n",
            "Requirement already satisfied: networkx in d:\\min-dalle-main\\.venv\\lib\\site-packages (from torch>=1.11->min-dalle) (3.1)\n",
            "Requirement already satisfied: jinja2 in d:\\min-dalle-main\\.venv\\lib\\site-packages (from torch>=1.11->min-dalle) (3.1.2)\n",
            "Requirement already satisfied: MarkupSafe>=2.0 in d:\\min-dalle-main\\.venv\\lib\\site-packages (from jinja2->torch>=1.11->min-dalle) (2.1.3)\n",
            "Requirement already satisfied: mpmath>=0.19 in d:\\min-dalle-main\\.venv\\lib\\site-packages (from sympy->torch>=1.11->min-dalle) (1.3.0)\n"
          ]
        }
      ],
      "source": [
        "! nvidia-smi\n",
        "! pip install min-dalle"
      ]
    },
    {
      "cell_type": "markdown",
      "metadata": {
        "id": "kViq2dMbGDKt"
      },
      "source": [
        "### Load Model\n",
        "`float32` is faster than `float16` but uses more GPU memory."
      ]
    },
    {
      "cell_type": "code",
      "execution_count": 2,
      "metadata": {
        "colab": {
          "base_uri": "https://localhost:8080/"
        },
        "id": "8W-L2ICFGFup",
        "outputId": "740d9f69-eeb4-465a-eedb-c308aadf17b6"
      },
      "outputs": [
        {
          "name": "stdout",
          "output_type": "stream",
          "text": [
            "using device cpu\n",
            "intializing TextTokenizer\n",
            "initializing DalleBartEncoder\n",
            "initializing DalleBartDecoder\n",
            "initializing VQGanDetokenizer\n"
          ]
        }
      ],
      "source": [
        "dtype = \"float32\" #@param [\"float32\", \"float16\", \"bfloat16\"]\n",
        "from IPython.display import display, update_display\n",
        "import torch\n",
        "from min_dalle import MinDalle\n",
        "\n",
        "model = MinDalle(\n",
        "    dtype=getattr(torch, dtype),\n",
        "    device='cpu',\n",
        "    is_mega=True, \n",
        "    is_reusable=True\n",
        ")"
      ]
    },
    {
      "cell_type": "markdown",
      "metadata": {
        "id": "c52TV1GbBNgS"
      },
      "source": [
        "### Generate Images\n",
        "\n",
        "- `grid_size` Size of the image grid.  Reduce this if you run out of GPU memory.\n",
        "\n",
        "- `progressive_outputs` Whether to show intermediate output.  Adds a small delay and increases memory usage.\n",
        "\n",
        "- `seamless` Tiles the images in token space instead of pixel space\n",
        "\n",
        "- `supercondition_factor` Higher values result in better agreement with the text but a narrower variety of generated images\n",
        "\n",
        "- `top_k` Each image token is sampled from the top $k$ most probable tokens"
      ]
    },
    {
      "cell_type": "code",
      "execution_count": 3,
      "metadata": {
        "colab": {
          "base_uri": "https://localhost:8080/",
          "height": 819
        },
        "id": "nQ0UG05dA4p2",
        "outputId": "d74dc645-a09d-46e5-f155-6c48c98dab97"
      },
      "outputs": [
        {
          "name": "stderr",
          "output_type": "stream",
          "text": [
            "d:\\min-dalle-main\\.venv\\Lib\\site-packages\\torch\\amp\\autocast_mode.py:204: UserWarning: User provided device_type of 'cuda', but CUDA is not available. Disabling\n",
            "  warnings.warn('User provided device_type of \\'cuda\\', but CUDA is not available. Disabling')\n"
          ]
        }
      ],
      "source": [
        "%%time\n",
        "\n",
        "text = \"Dali painting of WALL·E\" #@param {type:\"string\"}\n",
        "progressive_outputs = True #@param {type:\"boolean\"}\n",
        "seamless = False #@param {type:\"boolean\"}\n",
        "grid_size = 3 #@param {type:\"integer\"}\n",
        "temperature = 1 #@param {type:\"slider\", min:0.01, max:16, step:0.01}\n",
        "supercondition_factor = 16 #@param {type:\"number\"}\n",
        "top_k = 128 #@param {type:\"integer\"}\n",
        "\n",
        "image_stream = model.generate_image_stream(\n",
        "    text=text,\n",
        "    seed=-1,\n",
        "    grid_size=grid_size,\n",
        "    progressive_outputs=progressive_outputs,\n",
        "    is_seamless=seamless,\n",
        "    temperature=temperature,\n",
        "    top_k=int(top_k),\n",
        "    supercondition_factor=float(supercondition_factor)\n",
        ")\n",
        "\n",
        "is_first = True\n",
        "for image in image_stream:\n",
        "    display_image = display if is_first else update_display\n",
        "    display_image(image, display_id=1)\n",
        "    is_first = False"
      ]
    }
  ],
  "metadata": {
    "accelerator": "GPU",
    "colab": {
      "collapsed_sections": [
        "Zl_ZFisFApeh"
      ],
      "include_colab_link": true,
      "name": "min-dalle",
      "provenance": []
    },
    "gpuClass": "standard",
    "kernelspec": {
      "display_name": "Python 3.9.13 64-bit",
      "language": "python",
      "name": "python3"
    },
    "language_info": {
      "codemirror_mode": {
        "name": "ipython",
        "version": 3
      },
      "file_extension": ".py",
      "mimetype": "text/x-python",
      "name": "python",
      "nbconvert_exporter": "python",
      "pygments_lexer": "ipython3",
      "version": "3.11.3"
    },
    "vscode": {
      "interpreter": {
        "hash": "b0fa6594d8f4cbf19f97940f81e996739fb7646882a419484c72d19e05852a7e"
      }
    }
  },
  "nbformat": 4,
  "nbformat_minor": 0
}
